{
 "cells": [
  {
   "cell_type": "markdown",
   "metadata": {},
   "source": [
    "## NUMPY"
   ]
  },
  {
   "cell_type": "code",
   "execution_count": 5,
   "metadata": {},
   "outputs": [],
   "source": [
    "import pandas as pd\n",
    "import numpy as np\n",
    "import matplotlib.pyplot as plt \n",
    "import seaborn as sns"
   ]
  },
  {
   "cell_type": "markdown",
   "metadata": {},
   "source": [
    "### Crear arreglos\n",
    "    np.array([])\n",
    "    .shape\n",
    "    .type"
   ]
  },
  {
   "cell_type": "code",
   "execution_count": 6,
   "metadata": {},
   "outputs": [
    {
     "name": "stdout",
     "output_type": "stream",
     "text": [
      "(6,)\n",
      "int32\n",
      "[1 2 3 4 5 6]\n"
     ]
    }
   ],
   "source": [
    "#crear array (arreglo) de 1 dimension de 5 elementos. np.array([1,2,3,4,5])\n",
    "arr1 = np.array([1,2,3,4,5,6])\n",
    "\n",
    "print(arr1.shape) #forma de los elementos (cantidad columnas,cantidad filas)\n",
    "print(arr1.dtype) #tipo de array \n",
    "print(arr1) #mostrar el array completo"
   ]
  },
  {
   "cell_type": "markdown",
   "metadata": {},
   "source": [
    "### Convertir arreglo en matriz (2 dimensiones)\n",
    "    .reshape(())"
   ]
  },
  {
   "cell_type": "code",
   "execution_count": 7,
   "metadata": {},
   "outputs": [
    {
     "name": "stdout",
     "output_type": "stream",
     "text": [
      "(2, 3)\n",
      "int32\n",
      "[[1 2 3]\n",
      " [4 5 6]]\n"
     ]
    }
   ],
   "source": [
    "#cambiar el tipo del arreglo a 2 dimensiones (convertirlo en matriz) 2x3, las cantidades deben coincidir sin espacios vacios o dara error\n",
    "arr2 = arr1.reshape((2,3)) \n",
    "\n",
    "print(arr2.shape)\n",
    "print(arr2.dtype)\n",
    "print(arr2)"
   ]
  },
  {
   "cell_type": "markdown",
   "metadata": {},
   "source": [
    "### Matriz con numeros aleatorios\n",
    "    np.random.rand()"
   ]
  },
  {
   "cell_type": "code",
   "execution_count": 8,
   "metadata": {},
   "outputs": [
    {
     "name": "stdout",
     "output_type": "stream",
     "text": [
      "[[0.91261878 0.09950793 0.61138215 0.81385855]\n",
      " [0.45745311 0.08755708 0.65905253 0.61224826]\n",
      " [0.89363491 0.31151537 0.42121206 0.89973269]\n",
      " [0.22918749 0.87615564 0.58001883 0.92470188]]\n"
     ]
    }
   ],
   "source": [
    "#crear array matriz con numeros aleatorios entre 0 y 1\n",
    "aleatorio4 = np.random.rand(4,4)\n",
    "print(aleatorio4)"
   ]
  },
  {
   "cell_type": "markdown",
   "metadata": {},
   "source": [
    "### Arreglo 2d con listas dentro de listas\n",
    "    np.array([],[],[])"
   ]
  },
  {
   "cell_type": "code",
   "execution_count": 9,
   "metadata": {},
   "outputs": [
    {
     "name": "stdout",
     "output_type": "stream",
     "text": [
      "int32\n",
      "[[1 2 3]\n",
      " [4 5 6]\n",
      " [7 8 9]]\n"
     ]
    }
   ],
   "source": [
    "#crear un arreglo 2d con listas dentro de listas\n",
    "arr2d = np.array([[1,2,3], [4,5,6], [7,8,9]])\n",
    "print(arr2d.dtype)\n",
    "print(arr2d)"
   ]
  },
  {
   "cell_type": "markdown",
   "metadata": {},
   "source": [
    "### Crear arreglo de ceros y unos \n",
    "    np.zeros(())\n",
    "    np.ones(())"
   ]
  },
  {
   "cell_type": "code",
   "execution_count": 10,
   "metadata": {},
   "outputs": [
    {
     "name": "stdout",
     "output_type": "stream",
     "text": [
      "[[0. 0. 0. 0.]\n",
      " [0. 0. 0. 0.]\n",
      " [0. 0. 0. 0.]] \n",
      "\n",
      "[[1. 1. 1. 1.]\n",
      " [1. 1. 1. 1.]\n",
      " [1. 1. 1. 1.]]\n"
     ]
    }
   ],
   "source": [
    "#crear un arreglo de 0 eligiendo su forma \n",
    "ceros3x4 = np.zeros((3,4))\n",
    "print(ceros3x4,\"\\n\")\n",
    "\n",
    "#tambien con unos\n",
    "unos3x4 = np.ones((3,4))\n",
    "print(unos3x4)"
   ]
  },
  {
   "cell_type": "markdown",
   "metadata": {},
   "source": [
    "### Cambiar valor de alguna celda de la matriz\n",
    "    array[fila_celda,columna_celda] = n"
   ]
  },
  {
   "cell_type": "code",
   "execution_count": 11,
   "metadata": {},
   "outputs": [
    {
     "data": {
      "text/plain": [
       "array([[ 1.,  1.,  1.,  1.],\n",
       "       [ 1.,  1.,  1.,  1.],\n",
       "       [ 1., 10.,  1.,  1.]])"
      ]
     },
     "execution_count": 11,
     "metadata": {},
     "output_type": "execute_result"
    }
   ],
   "source": [
    "#cambiar el valor de alguna celda del array\n",
    "unos3x4[2,1] = 10 #primero la fila luego la columna. empieza siempre de 0 \n",
    "unos3x4"
   ]
  },
  {
   "cell_type": "markdown",
   "metadata": {},
   "source": [
    "### Crear matriz con misma cantidad filas y columnas con 0 y 1\n",
    "    np.eye(n)"
   ]
  },
  {
   "cell_type": "code",
   "execution_count": 12,
   "metadata": {},
   "outputs": [
    {
     "data": {
      "text/plain": [
       "array([[1., 0., 0.],\n",
       "       [0., 1., 0.],\n",
       "       [0., 0., 1.]])"
      ]
     },
     "execution_count": 12,
     "metadata": {},
     "output_type": "execute_result"
    }
   ],
   "source": [
    "#crear una matriz identidad (misma cantidad filas y columnas)\n",
    "iguales = np.eye(3)\n",
    "iguales"
   ]
  },
  {
   "cell_type": "markdown",
   "metadata": {},
   "source": [
    "### Arreglo en 3d\n",
    "    np.zero([d1,d2,d3])"
   ]
  },
  {
   "cell_type": "code",
   "execution_count": 13,
   "metadata": {},
   "outputs": [
    {
     "data": {
      "text/plain": [
       "array([[[0., 0., 0., 0.],\n",
       "        [0., 0., 0., 0.],\n",
       "        [0., 0., 0., 0.]],\n",
       "\n",
       "       [[0., 0., 0., 0.],\n",
       "        [0., 0., 0., 0.],\n",
       "        [0., 0., 0., 0.]]])"
      ]
     },
     "execution_count": 13,
     "metadata": {},
     "output_type": "execute_result"
    }
   ],
   "source": [
    "#crear un arreglo de 3dimensiones. \n",
    "arr3 = np.zeros([2,3,4]) #([cantidad de matices, filas, columnas]) #la cantidad no empieza desde 0\n",
    "arr3"
   ]
  },
  {
   "cell_type": "markdown",
   "metadata": {},
   "source": [
    "### Transponer filas y columnas\n",
    "    arr.T"
   ]
  },
  {
   "cell_type": "code",
   "execution_count": 14,
   "metadata": {},
   "outputs": [
    {
     "data": {
      "text/plain": [
       "array([[0.48596041, 0.36755204],\n",
       "       [0.14349297, 0.98449552],\n",
       "       [0.64984265, 0.90839901],\n",
       "       [0.80465313, 0.44150622]])"
      ]
     },
     "execution_count": 14,
     "metadata": {},
     "output_type": "execute_result"
    }
   ],
   "source": [
    "#transponer las filas y columnas de un array\n",
    "arr5 = np.random.rand(2,4) #2 filas, 4 columnas\n",
    "arr5.T #4 filas, 2 columnas"
   ]
  },
  {
   "cell_type": "markdown",
   "metadata": {},
   "source": [
    "### Concatenar arrays horizontal y vertical\n",
    "    np.hstack([arr1,arr2])\n",
    "    np.vstack([arr1,arr2])"
   ]
  },
  {
   "cell_type": "code",
   "execution_count": 15,
   "metadata": {},
   "outputs": [
    {
     "name": "stdout",
     "output_type": "stream",
     "text": [
      "[[ 0.  0.  0.  0.  1.  1.  1.  1.]\n",
      " [ 0.  0.  0.  0.  1.  1.  1.  1.]\n",
      " [ 0.  0.  0.  0.  1. 10.  1.  1.]] \n",
      "\n",
      "[[ 0.  0.  0.  0.]\n",
      " [ 0.  0.  0.  0.]\n",
      " [ 0.  0.  0.  0.]\n",
      " [ 1.  1.  1.  1.]\n",
      " [ 1.  1.  1.  1.]\n",
      " [ 1. 10.  1.  1.]]\n"
     ]
    }
   ],
   "source": [
    "#concatenar arrays horizontalmente\n",
    "arr_h = np.hstack([ceros3x4, unos3x4])\n",
    "print(arr_h,\"\\n\")\n",
    "\n",
    "#concatenar arrays verticalmente\n",
    "arr_v = np.vstack([ceros3x4, unos3x4])\n",
    "print(arr_v)"
   ]
  },
  {
   "cell_type": "markdown",
   "metadata": {},
   "source": [
    "### suma total/promedio/mediana/producto/desviacion est/varianza\n",
    "    np.sum()\n",
    "    np.mean()\n",
    "    np.median()\n",
    "    np.prod()\n",
    "    np.std()\n",
    "    np.var()"
   ]
  },
  {
   "cell_type": "code",
   "execution_count": 16,
   "metadata": {},
   "outputs": [
    {
     "data": {
      "text/plain": [
       "2.9166666666666665"
      ]
     },
     "execution_count": 16,
     "metadata": {},
     "output_type": "execute_result"
    }
   ],
   "source": [
    "#calcular la suma de elementos del array\n",
    "total = np.sum(arr1)\n",
    "total\n",
    "\n",
    "#calcular el promedio\n",
    "promedio = np.mean(arr1)\n",
    "promedio\n",
    "\n",
    "#calcular la mediana (valor central)\n",
    "mitad = np.median(arr1)\n",
    "mitad\n",
    "\n",
    "#calcular el producto  (se multiplican todos los elementos)\n",
    "producto = np.prod(arr1)\n",
    "producto\n",
    "\n",
    "#calcular la desviacion estandar (cuanto se desvian los datos de la media en promedio)\n",
    "desv_est = np.std(arr1)\n",
    "desv_est\n",
    "\n",
    "#calcuolar la varianza (cuanto se desvian los datos de la media individualmente)\n",
    "var = np.var(arr1)\n",
    "var"
   ]
  },
  {
   "cell_type": "markdown",
   "metadata": {},
   "source": [
    "### maximo/minimo/ sumas restas\n",
    "    np.min()\n",
    "    np.max()"
   ]
  },
  {
   "cell_type": "code",
   "execution_count": 17,
   "metadata": {},
   "outputs": [
    {
     "name": "stdout",
     "output_type": "stream",
     "text": [
      "1\n"
     ]
    },
    {
     "data": {
      "text/plain": [
       "array([1., 2., 3., 4., 5., 6.])"
      ]
     },
     "execution_count": 17,
     "metadata": {},
     "output_type": "execute_result"
    }
   ],
   "source": [
    "#minimo de los elementos\n",
    "min = np.min(arr1)\n",
    "print(min)\n",
    "#maximo de los elementos\n",
    "max = np.max(arr1)\n",
    "max\n",
    "\n",
    "#sumar, restar, multiplicar etc los ARRAY. deben ser iguales en cantidad de elementos\n",
    "arr1 + arr1 *arr1 / arr1 - arr1"
   ]
  },
  {
   "cell_type": "markdown",
   "metadata": {},
   "source": [
    "### Crear df a partir de un arreglo \n",
    "    pd.DataFrame(arr, columns =[\"a\", \"b\", \"c])\n",
    "    df.to_numpy()\n",
    "    df.values"
   ]
  },
  {
   "cell_type": "code",
   "execution_count": 18,
   "metadata": {},
   "outputs": [
    {
     "data": {
      "text/plain": [
       "array([[1, 2, 3],\n",
       "       [4, 5, 6],\n",
       "       [7, 8, 9]])"
      ]
     },
     "execution_count": 18,
     "metadata": {},
     "output_type": "execute_result"
    }
   ],
   "source": [
    "#crear un dataframe a partir de un arreglo numpy\n",
    "#puedo cambiar el nombre de las columnas con la variable columns=[] esta debe coincidir las variables dentro con la cantidad de columnas que exista\n",
    "df = pd.DataFrame(arr2d, columns=[\"A\",\"B\",\"C\"])\n",
    "df\n",
    "\n",
    "#tambien se puede transformar un data frame en un arreglo de numpy\n",
    "arr = df.to_numpy()\n",
    "arr\n",
    "\n",
    "#con .values hace lo mismo\n",
    "df.values"
   ]
  },
  {
   "cell_type": "markdown",
   "metadata": {},
   "source": [
    "### Calcular en filas o columnas totales\n",
    "    np.mean(axis=0)\n",
    "    np.mean(axis=1)"
   ]
  },
  {
   "cell_type": "code",
   "execution_count": 19,
   "metadata": {},
   "outputs": [
    {
     "name": "stdout",
     "output_type": "stream",
     "text": [
      "A    4.0\n",
      "B    5.0\n",
      "C    6.0\n",
      "dtype: float64\n",
      "0    2.0\n",
      "1    5.0\n",
      "2    8.0\n",
      "dtype: float64\n"
     ]
    },
    {
     "data": {
      "text/plain": [
       "0    2.0\n",
       "1    5.0\n",
       "2    8.0\n",
       "dtype: float64"
      ]
     },
     "execution_count": 19,
     "metadata": {},
     "output_type": "execute_result"
    }
   ],
   "source": [
    "#calcular estadisticas en las columnas\n",
    "promc = np.mean(df, axis=0) #promedio\n",
    "print(promc)\n",
    "\n",
    "#calcular estadisticas en las filas\n",
    "promf = np.mean(df, axis=1) #promedio\n",
    "print(promf)\n",
    "\n",
    "#con pandas calcular es mas sencillo es solo .mean(axis= 1 o 0)\n",
    "promcc = df.mean(axis=1)\n",
    "promcc"
   ]
  }
 ],
 "metadata": {
  "kernelspec": {
   "display_name": "datos",
   "language": "python",
   "name": "python3"
  },
  "language_info": {
   "codemirror_mode": {
    "name": "ipython",
    "version": 3
   },
   "file_extension": ".py",
   "mimetype": "text/x-python",
   "name": "python",
   "nbconvert_exporter": "python",
   "pygments_lexer": "ipython3",
   "version": "3.12.0"
  }
 },
 "nbformat": 4,
 "nbformat_minor": 2
}
