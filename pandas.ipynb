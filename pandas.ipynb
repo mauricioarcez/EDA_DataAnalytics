{
 "cells": [
  {
   "cell_type": "markdown",
   "metadata": {},
   "source": [
    "## PANDAS"
   ]
  },
  {
   "cell_type": "code",
   "execution_count": 16,
   "metadata": {},
   "outputs": [],
   "source": [
    "import pandas as pd\n",
    "import numpy as np"
   ]
  },
  {
   "cell_type": "markdown",
   "metadata": {},
   "source": [
    "### Series de pandas\n",
    "    pd.series()"
   ]
  },
  {
   "cell_type": "code",
   "execution_count": 17,
   "metadata": {},
   "outputs": [
    {
     "data": {
      "text/plain": [
       "(0    3\n",
       " 1    4\n",
       " 2    5\n",
       " 3    6\n",
       " 4    7\n",
       " dtype: int64,\n",
       " pandas.core.series.Series)"
      ]
     },
     "execution_count": 17,
     "metadata": {},
     "output_type": "execute_result"
    }
   ],
   "source": [
    "numeros = [3,4,5,6,7] #lista\n",
    "serie = pd.Series(numeros) #Las series tienen indices\n",
    "serie, type(serie) #esto es un print con su tipo de dato"
   ]
  },
  {
   "cell_type": "markdown",
   "metadata": {},
   "source": [
    "### Generar un dataframe a partir de un diccionario\n",
    "    pd.DataFrame(data=) \n",
    " "
   ]
  },
  {
   "cell_type": "code",
   "execution_count": 18,
   "metadata": {},
   "outputs": [
    {
     "data": {
      "text/html": [
       "<div>\n",
       "<style scoped>\n",
       "    .dataframe tbody tr th:only-of-type {\n",
       "        vertical-align: middle;\n",
       "    }\n",
       "\n",
       "    .dataframe tbody tr th {\n",
       "        vertical-align: top;\n",
       "    }\n",
       "\n",
       "    .dataframe thead th {\n",
       "        text-align: right;\n",
       "    }\n",
       "</style>\n",
       "<table border=\"1\" class=\"dataframe\">\n",
       "  <thead>\n",
       "    <tr style=\"text-align: right;\">\n",
       "      <th></th>\n",
       "      <th>nombre</th>\n",
       "      <th>edad</th>\n",
       "    </tr>\n",
       "  </thead>\n",
       "  <tbody>\n",
       "    <tr>\n",
       "      <th>0</th>\n",
       "      <td>juan</td>\n",
       "      <td>28</td>\n",
       "    </tr>\n",
       "    <tr>\n",
       "      <th>1</th>\n",
       "      <td>mauricio</td>\n",
       "      <td>24</td>\n",
       "    </tr>\n",
       "    <tr>\n",
       "      <th>2</th>\n",
       "      <td>naiara</td>\n",
       "      <td>21</td>\n",
       "    </tr>\n",
       "  </tbody>\n",
       "</table>\n",
       "</div>"
      ],
      "text/plain": [
       "     nombre  edad\n",
       "0      juan    28\n",
       "1  mauricio    24\n",
       "2    naiara    21"
      ]
     },
     "execution_count": 18,
     "metadata": {},
     "output_type": "execute_result"
    }
   ],
   "source": [
    "# Un diccionario para luego convertirlo en DataFrame\n",
    "# dataframe es que tenga indice,filas y columnas\n",
    "# debe cumplir la mayuscula y minuscula pd.DataFrame\n",
    "datos = {\n",
    "    \"nombre\": [\"juan\", \"mauricio\", \"naiara\"],\n",
    "    \"edad\": [28,24,21],\n",
    "}\n",
    "datos, type(datos)\n",
    "\n",
    "df = pd.DataFrame(data=datos)\n",
    "df"
   ]
  },
  {
   "cell_type": "markdown",
   "metadata": {},
   "source": [
    "## Exportar/importar un dataframe a otro tipo de archivo\n",
    "    df.to_csv(\" \")\n",
    "    pd.read_csv(\" \")"
   ]
  },
  {
   "cell_type": "code",
   "execution_count": 19,
   "metadata": {},
   "outputs": [
    {
     "data": {
      "text/html": [
       "<div>\n",
       "<style scoped>\n",
       "    .dataframe tbody tr th:only-of-type {\n",
       "        vertical-align: middle;\n",
       "    }\n",
       "\n",
       "    .dataframe tbody tr th {\n",
       "        vertical-align: top;\n",
       "    }\n",
       "\n",
       "    .dataframe thead th {\n",
       "        text-align: right;\n",
       "    }\n",
       "</style>\n",
       "<table border=\"1\" class=\"dataframe\">\n",
       "  <thead>\n",
       "    <tr style=\"text-align: right;\">\n",
       "      <th></th>\n",
       "      <th>nombre</th>\n",
       "      <th>edad</th>\n",
       "    </tr>\n",
       "  </thead>\n",
       "  <tbody>\n",
       "    <tr>\n",
       "      <th>0</th>\n",
       "      <td>juan</td>\n",
       "      <td>28</td>\n",
       "    </tr>\n",
       "    <tr>\n",
       "      <th>1</th>\n",
       "      <td>mauricio</td>\n",
       "      <td>24</td>\n",
       "    </tr>\n",
       "    <tr>\n",
       "      <th>2</th>\n",
       "      <td>naiara</td>\n",
       "      <td>21</td>\n",
       "    </tr>\n",
       "  </tbody>\n",
       "</table>\n",
       "</div>"
      ],
      "text/plain": [
       "     nombre  edad\n",
       "0      juan    28\n",
       "1  mauricio    24\n",
       "2    naiara    21"
      ]
     },
     "execution_count": 19,
     "metadata": {},
     "output_type": "execute_result"
    }
   ],
   "source": [
    "#Exportar un dataframe a otro tipo de archivo\n",
    "df.to_csv(\"datos.csv\") \n",
    "#Importar un dataframe\n",
    "import_df = pd.read_csv(\"datos.csv\", index_col=0) #index_col es para que no traiga una columna de mas por defecto\n",
    "import_df"
   ]
  },
  {
   "cell_type": "markdown",
   "metadata": {},
   "source": [
    "## Seleccionar columna/s, filtrar por filas (indices)\n",
    "    df[\"columna\"]\n",
    "    df.loc[indice]"
   ]
  },
  {
   "cell_type": "code",
   "execution_count": 20,
   "metadata": {},
   "outputs": [
    {
     "name": "stdout",
     "output_type": "stream",
     "text": [
      "0        juan\n",
      "1    mauricio\n",
      "2      naiara\n",
      "Name: nombre, dtype: object\n"
     ]
    },
    {
     "data": {
      "text/plain": [
       "nombre    naiara\n",
       "edad          21\n",
       "Name: 2, dtype: object"
      ]
     },
     "execution_count": 20,
     "metadata": {},
     "output_type": "execute_result"
    }
   ],
   "source": [
    "#seleccionar una columna\n",
    "nombres = df[\"nombre\"]\n",
    "print(nombres)\n",
    "#seleccionar una o mas columnas\n",
    "df[[\"nombre\",\"edad\"]] #doble corchete\n",
    "#filtrar por fila (indice)\n",
    "fila = df.loc[2] #debo poner el numero del indice de fila que quiero llamar\n",
    "fila"
   ]
  },
  {
   "cell_type": "markdown",
   "metadata": {},
   "source": [
    "### filtrar por condicion\n",
    "    df[df[\"columnas\"] == \"condicion]\n",
    "    df[df[\"columna].isin([])] \n",
    "    df[df[\"columna].between(n,n1)] \n",
    "    df.query(columna > n) \n",
    "    df[df[\"columna].apply]"
   ]
  },
  {
   "cell_type": "code",
   "execution_count": 21,
   "metadata": {},
   "outputs": [
    {
     "data": {
      "text/html": [
       "<div>\n",
       "<style scoped>\n",
       "    .dataframe tbody tr th:only-of-type {\n",
       "        vertical-align: middle;\n",
       "    }\n",
       "\n",
       "    .dataframe tbody tr th {\n",
       "        vertical-align: top;\n",
       "    }\n",
       "\n",
       "    .dataframe thead th {\n",
       "        text-align: right;\n",
       "    }\n",
       "</style>\n",
       "<table border=\"1\" class=\"dataframe\">\n",
       "  <thead>\n",
       "    <tr style=\"text-align: right;\">\n",
       "      <th></th>\n",
       "      <th>nombre</th>\n",
       "      <th>edad</th>\n",
       "    </tr>\n",
       "  </thead>\n",
       "  <tbody>\n",
       "    <tr>\n",
       "      <th>0</th>\n",
       "      <td>juan</td>\n",
       "      <td>28.0</td>\n",
       "    </tr>\n",
       "    <tr>\n",
       "      <th>1</th>\n",
       "      <td>mauricio</td>\n",
       "      <td>24.0</td>\n",
       "    </tr>\n",
       "    <tr>\n",
       "      <th>2</th>\n",
       "      <td>None</td>\n",
       "      <td>NaN</td>\n",
       "    </tr>\n",
       "    <tr>\n",
       "      <th>3</th>\n",
       "      <td>naiara</td>\n",
       "      <td>21.0</td>\n",
       "    </tr>\n",
       "  </tbody>\n",
       "</table>\n",
       "</div>"
      ],
      "text/plain": [
       "     nombre  edad\n",
       "0      juan  28.0\n",
       "1  mauricio  24.0\n",
       "2      None   NaN\n",
       "3    naiara  21.0"
      ]
     },
     "execution_count": 21,
     "metadata": {},
     "output_type": "execute_result"
    }
   ],
   "source": [
    "\n",
    "df[df[\"edad\"] == 21] #puede usar mayor menor igual distinto \n",
    "\n",
    "#doble condicion\n",
    "filtro = (df[\"edad\"] == 21) & (df[\"nombre\"].str.startswith(\"n\")) #crear variable y separar entre ()\n",
    "df[filtro] \n",
    "\n",
    "# esta en. sirve para filtrar existencias en un dataframe a travez de una lista para que seleccione con .isin([])\n",
    "df[df[\"nombre\"].isin([\"naiara\", \"mauricio\", \"carlos\"])] #mostrara los existentes e ignora los que no existen\n",
    "#esta entre. sirve para filtrar grupos entre un valor y otro con .between(valor_menor,valor_mayor) inclusive\n",
    "df[df[\"edad\"].between(24,28)]\n",
    "\n",
    "#filtrar por query con .query()\n",
    "df.query(\"edad > 23\")\n",
    "#aplicar funciones a un dataframe con .apply()\n",
    "def longitud_mayor6(nombre):\n",
    "    return len(nombre) > 6\n",
    "\n",
    "df[df[\"nombre\"].apply(longitud_mayor6)]\n",
    "#nuevo dataframe con valores faltantes a travez de numpy. np.nan para numeros. None para strings\n",
    "datos1 = {\n",
    "    \"nombre\": [\"juan\", \"mauricio\", None, \"naiara\"],\n",
    "    \"edad\": [28,24,np.nan,21]\n",
    "}\n",
    "df1 = pd.DataFrame(datos1)\n",
    "df1"
   ]
  },
  {
   "cell_type": "markdown",
   "metadata": {},
   "source": [
    "### rellenar/eliminar/reemplazar/interpolar valores\n",
    "    df.fillna({})\n",
    "    df.dropna()\n",
    "    df.replace({})\n",
    "    df.copy()\n",
    "    df.interpolate()\n",
    "    df.drop_duplicates()\n",
    "    df.rename({\"columna\": \"nuevo_nombre\"})"
   ]
  },
  {
   "cell_type": "code",
   "execution_count": 14,
   "metadata": {},
   "outputs": [
    {
     "data": {
      "text/html": [
       "<div>\n",
       "<style scoped>\n",
       "    .dataframe tbody tr th:only-of-type {\n",
       "        vertical-align: middle;\n",
       "    }\n",
       "\n",
       "    .dataframe tbody tr th {\n",
       "        vertical-align: top;\n",
       "    }\n",
       "\n",
       "    .dataframe thead th {\n",
       "        text-align: right;\n",
       "    }\n",
       "</style>\n",
       "<table border=\"1\" class=\"dataframe\">\n",
       "  <thead>\n",
       "    <tr style=\"text-align: right;\">\n",
       "      <th></th>\n",
       "      <th>nombre</th>\n",
       "      <th>edad</th>\n",
       "    </tr>\n",
       "  </thead>\n",
       "  <tbody>\n",
       "    <tr>\n",
       "      <th>0</th>\n",
       "      <td>juan</td>\n",
       "      <td>28.0</td>\n",
       "    </tr>\n",
       "    <tr>\n",
       "      <th>1</th>\n",
       "      <td>mauricio</td>\n",
       "      <td>24.0</td>\n",
       "    </tr>\n",
       "    <tr>\n",
       "      <th>2</th>\n",
       "      <td>None</td>\n",
       "      <td>22.5</td>\n",
       "    </tr>\n",
       "    <tr>\n",
       "      <th>3</th>\n",
       "      <td>naiara</td>\n",
       "      <td>21.0</td>\n",
       "    </tr>\n",
       "  </tbody>\n",
       "</table>\n",
       "</div>"
      ],
      "text/plain": [
       "     nombre  edad\n",
       "0      juan  28.0\n",
       "1  mauricio  24.0\n",
       "2      None  22.5\n",
       "3    naiara  21.0"
      ]
     },
     "execution_count": 14,
     "metadata": {},
     "output_type": "execute_result"
    }
   ],
   "source": [
    "#rellenar los valores faltantes con .fillna([])\n",
    "# .mean() usa un promedio de los valores totales\n",
    "df1_fill = df1.fillna(\n",
    "    {\n",
    "    \"edad\": df[\"edad\"].mean(),\n",
    "    \"nombre\": \"Desconocido\"\n",
    "    }\n",
    ")\n",
    "df1_fill\n",
    "#Eliminar filas con valores faltantes, o nulos con .dropna()\n",
    "df1_sin_nulos = df1.dropna()\n",
    "df1_sin_nulos\n",
    "#reemplazar valores para que no queden nulos o simplemente cambiar su valor .replace({clave : {valor_antiguo:valor_nuevo}})\n",
    "df1_reemplazado = df1.replace(\n",
    "    {\n",
    "    \"nombre\": { \"mauricio\" :\"valor nuevo\", None: \"desconocido\"}\n",
    "    }\n",
    ")\n",
    "df1_reemplazado\n",
    "#interpolar valores. es como el promedio pero mas exacto cuando no existen numeros muy altos o bajos que cambien el resultado\n",
    "# primero usar un .copy() del dataframe original\n",
    "# luego usar df[].interpolate()\n",
    "#funciona con datos numericos. no con str\n",
    "df1_interpolado = df1.copy()\n",
    "df1_interpolado[\"edad\"] = df1_interpolado[\"edad\"].interpolate()\n",
    "df1_interpolado\n",
    "\n",
    "#crear dataframe con duplicados\n",
    "datos_duplicados = {\n",
    "    \"nombre\": [\"juan\", \"mauricio\", \"juan\", \"naiara\"],\n",
    "    \"edad\": [28,24,28,27]\n",
    "}\n",
    "df_duplicado = pd.DataFrame(datos_duplicados)\n",
    "df_duplicado\n",
    "#eliminar duplicados. para que lo tome como duplplicado tiene que repetirse ambas columnas, si se repite el nombre pero no la edad no lo toma como repetido\n",
    "df_sin_duplicados = df_duplicado.drop_duplicates()\n",
    "df_sin_duplicados\n",
    "\n",
    "#renombrar columnas. cambiar su nombre o definicion\n",
    "# nueava variable = antigua.rename(columns={\"valor_antiguo\":\"valor_nuevo\"})\n",
    "df1_renombrado = df1.rename(columns={\"nombre\":\"Name\",\"edad\":\"Age\"})\n",
    "df1_renombrado"
   ]
  },
  {
   "cell_type": "markdown",
   "metadata": {},
   "source": [
    "### ordenar/agregar/agrupar/calcular/concatenar columnas y datos\n",
    "    df.groupby(\"\")\n",
    "    df.agg({})\n",
    "    df.apply(funcion)\n",
    "    df.concat([])"
   ]
  },
  {
   "cell_type": "code",
   "execution_count": null,
   "metadata": {},
   "outputs": [],
   "source": [
    "#ordenar las columnas\n",
    "ordenado = [\"edad\",\"nombre\"]\n",
    "df1_ordenado = df1[ordenado]\n",
    "df1_ordenado\n",
    "#agregar una columna que modifica a otra columna\n",
    "def doble(edad):\n",
    "    return edad *2\n",
    "\n",
    "df1[\"doble_edad\"] = df1[\"edad\"].apply(doble)\n",
    "df1\n",
    "puntuaciones = {\n",
    "    \"nombre\": [\"juan\", \"mauricio\", \"naiara\", \"nuevo\"],\n",
    "    \"edad\": [28,24,21,24],\n",
    "    \"puntuaciones\": [55,100,90,30]\n",
    "}\n",
    "df3 = pd.DataFrame(puntuaciones)\n",
    "#Agrupar datos (por ej. por edad)\n",
    "agrupado_1 = df3.groupby(\"edad\") #la edad x: [indicex,indice1], x1: [indice2,indice3]\n",
    "agrupado_1.groups\n",
    "#calcular la suma o promedios en un agrupado de datos df.agg({\"clave\":\"calculo\", \"clave\":\"calculo\"})\n",
    "df3.agg(\n",
    "    {\n",
    "    \"edad\": \"mean\", #promedio\n",
    "    \"puntuaciones\": \"sum\", #suma\n",
    "    }\n",
    ")\n",
    "\n",
    "\n",
    "#otra forma de clacular sumas pero de manera individual es: df[\"clave\"].agg(\"calculo\")\n",
    "df3[\"puntuaciones\"].agg(\"mean\") #promedio\n",
    "\n",
    "#definir una funcion para calcular agrupados\n",
    "def rango(serie):\n",
    "    return serie.max() - serie.min()\n",
    "\n",
    "rango_agrupado = df3.agg({\n",
    "    \"edad\":rango,\n",
    "    \"puntuaciones\": rango\n",
    "})\n",
    "\n",
    "rango_agrupado\n",
    "                                         \n",
    "#agregar una columna al dataframe lista[nueva_columna]= [nuevos_valores,x1,x2,x3]\n",
    "puntuaciones[\"categorias\"] = [\"A\", \"B\", \"A\", \"B\",]\n",
    "df4 = pd.DataFrame(puntuaciones)\n",
    "\n",
    "#agregar una fila al df \n",
    "#creamos una serie que sera la fila con pd.Series({\"columna\":\"valor\",})\n",
    "nueva_fila = pd.Series({\n",
    "    \"edad\":18,\n",
    "    \"nombre\": \"pendejito\",\n",
    "    \"puntuaciones\": 99,\n",
    "    \"categorias\": \"C\"\n",
    "})\n",
    "#la tranformamos en un df con pd.concat([df,nueva_fila.to_frame().T]) que combina los datos nuevos con el frame que queremos agregar\n",
    "#.to_frame es porque es una serie y la transformamos en un dataframe\n",
    "#.T es para transponer los datos \n",
    "#ignore index es para que no se repitan los indices, si no sale en 0 su indice\n",
    "df4 = pd.concat([df4, nueva_fila.to_frame().T], ignore_index=True)   \n",
    "df4       \n",
    "#combinar dataframes\n",
    "df_combinado = pd.concat([df3,df4],ignore_index=True)\n",
    "df_combinado\n",
    "#a diferencia del agrupado_1 para meter mas agrupaciones: el groupby([x1,x2]) es una lista [,]\n",
    "agrupado_2 = df4.groupby([\"edad\",\"categorias\"])\n",
    "agrupado_2.groups\n",
    "\n",
    "#agrupacion multinivel\n",
    "agrupado_2.agg({\n",
    "    \"puntuaciones\":\"mean\",\n",
    "})"
   ]
  }
 ],
 "metadata": {
  "kernelspec": {
   "display_name": "datos",
   "language": "python",
   "name": "python3"
  },
  "language_info": {
   "codemirror_mode": {
    "name": "ipython",
    "version": 3
   },
   "file_extension": ".py",
   "mimetype": "text/x-python",
   "name": "python",
   "nbconvert_exporter": "python",
   "pygments_lexer": "ipython3",
   "version": "3.12.0"
  }
 },
 "nbformat": 4,
 "nbformat_minor": 2
}
